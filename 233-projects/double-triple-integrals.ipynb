{
 "metadata": {
  "language": "Julia",
  "name": "",
  "signature": "sha256:29e3116636282e633be0d525ba9338f0d57e0f882c7290cda5dc64df42b56603"
 },
 "nbformat": 3,
 "nbformat_minor": 0,
 "worksheets": [
  {
   "cells": [
    {
     "cell_type": "markdown",
     "metadata": {},
     "source": [
      "Double Integration\n",
      "==================\n",
      "Let $f: R^2 \\rightarrow R$ be a continuous, real-valued function of two\n",
      "variables. If $f(x,y) \\geq 0$ over a region $D$, then the volume under\n",
      "$f$ above the $x-y$ plan is given by an integral\n",
      "\n",
      "$$\n",
      "\\int_D f(x,y) dA\n",
      "$$\n",
      "\n",
      "More generally, if $f(x,y)$ is possibly negative, then the above is\n",
      "interpreted as the signed volume. As with one-dimensional integrals,\n",
      "this insight can lead to methods to numerically compute the integral\n",
      "above. For now we focus on applying the fundamental theorem of calculus\n",
      "to perform the integration. For this, the double integral must be turned\n",
      "into a sequence of single integrals.\n",
      "\n",
      "Fubini's thereom, iterated integrals\n",
      "------------------------------------\n",
      "\n",
      "[Fubini's theorem](http://en.wikipedia.org/wiki/Fubini%27s_theorem)\n",
      "gives conditions on when it is possible to turn a double (or higher\n",
      "dimensional integral) into a sequence of iterated integrals. Fubini's\n",
      "theorem will apply if the region $D$ is the rectangle\n",
      "$[a,b] \\times [c,d]$ and the function $f$ is continuous, in which case\n",
      "we have\n",
      "\n",
      "$$\n",
      "\\int_D f(x,y) dA = \\int_a^b [\\int_c^d f(x,y) dy] dx = \\int_c^d [\\int_a^b f(x,y) dx] dy.\n",
      "$$\n",
      "\n",
      "The value on the right can be computed by hand or with `SymPy`'s\n",
      "`integrate` function within `julia`.\n",
      "\n",
      "For example, consider the area under the plane $f(x,y) = 1 - (x + y)/2$\n",
      "over the region $[0,1] \\times [0,1]$. Fubini's theorem says this is\n",
      "simply\n",
      "\n",
      "$$\n",
      "\\int_0^1 [\\int_0^1 (1 - (x+y)/2) dy] dx.\n",
      "$$\n",
      "\n",
      "This can be computed as:\n",
      "\n"
     ]
    },
    {
     "cell_type": "code",
     "collapsed": true,
     "input": [
      "using SymPy\n",
      "x,y,z = symbols(\"x,y,z\", real=true)\n",
      "\n",
      "integrate(1 - (x + y)/2, (y, 0, 1), (x, 0, 1))"
     ],
     "language": "python",
     "metadata": {},
     "outputs": [
      {
       "latex": [
        "$$\\frac{1}{2}$$"
       ],
       "metadata": {},
       "output_type": "pyout",
       "prompt_number": 21,
       "text": [
        "1/2"
       ]
      }
     ],
     "prompt_number": 21
    },
    {
     "cell_type": "markdown",
     "metadata": {},
     "source": [
      "The limits of integration are specified with the innermost first and\n",
      "outermost last. They are specified with a triple. So the math notation\n",
      "$$\n",
      "\\int_a^b (...) dx\n",
      "$$\n",
      "\n",
      "Becomes `integrate( ..., (x, a, b))` for whatever `...` means.\n",
      "\n",
      "Limits of integration\n",
      "---------------------\n",
      "\n",
      "More generally, the region may be more complicated than a rectangle. If\n",
      "$D$ is \"simple\", then one can say either $a \\leq x \\leq b$ and\n",
      "$g_1(x) \\leq y \\leq g_2(x)$ (or vice-versa in $x$ and $y$) for some\n",
      "functions $g_1$ and $g_2$, then the double integral over $D$ can be\n",
      "iterated to:\n",
      "\n",
      "$$\n",
      "\\int_a^b \\int_{g_1(x)}^{g_2(x)} f(x,y) dy dx.\n",
      "$$\n",
      "\n",
      "For example, suppose $D$ is the region in the $x-y$ plane described by\n",
      "$0 \\leq x \\leq 1$ and $0 \\leq y \\leq x^2$, then the integral of\n",
      "$(x+y)^2$ over $D$ can be computed by\n",
      "\n"
     ]
    },
    {
     "cell_type": "code",
     "collapsed": true,
     "input": [
      "integrate((x+y)^2, (y, 0, x^2), (x,0,1))"
     ],
     "language": "python",
     "metadata": {},
     "outputs": [
      {
       "latex": [
        "$$\\frac{29}{70}$$"
       ],
       "metadata": {},
       "output_type": "pyout",
       "prompt_number": 22,
       "text": [
        "29\n",
        "--\n",
        "70"
       ]
      }
     ],
     "prompt_number": 22
    },
    {
     "cell_type": "markdown",
     "metadata": {},
     "source": [
      "### Using quadgk for numeric integration\n",
      "The use of numeric integration is possible -- and necessary for some\n",
      "integrands -- but slightly more cumbersome. For rectangular regions, the\n",
      "`Cubature` package provides high-quality algorithms for the task.\n",
      "However, with some work we can use the built-in `quadgk` function as\n",
      "well by iterating the integrals. the above problem would be done as\n",
      "follows:\n",
      "\n"
     ]
    },
    {
     "cell_type": "code",
     "collapsed": true,
     "input": [
      "g1(x) = 0\n",
      "g2(x) = x^2\n",
      "f(x,y) = (x+y)^2\n",
      "inner(x) = quadgk(y -> (x + y)^2, g1(x), g2(x))[1]\n",
      "quadgk(inner, 0, 1)[1]"
     ],
     "language": "python",
     "metadata": {},
     "outputs": [
      {
       "html": [
        "<span class=\"float\" title=\"0.4142857142857142\">0.414</span>"
       ],
       "metadata": {},
       "output_type": "pyout",
       "prompt_number": 23,
       "text": [
        "0.4142857142857142"
       ]
      }
     ],
     "prompt_number": 23
    },
    {
     "cell_type": "markdown",
     "metadata": {},
     "source": [
      "We see that we have to write out `inner` function in terms of `x` and\n",
      "extract just the first answer. This allows us to pass this to the outer\n",
      "`quadgk`. The error term from the last one is misleading, as it won't\n",
      "take into consideration any error in the inner integral. However, in\n",
      "this case, The integral is basically exact, though `29/70` is a nicer\n",
      "answer than `0.4142857142857142`.\n",
      "polar coordinates\n",
      "-----------------\n",
      "\n",
      "If it is more convenient to express the domain $D$ in *polar\n",
      "coordinates*, then the double integral of $f$ over $D$ can be\n",
      "re-expressed as:\n",
      "\n",
      "$$\n",
      "\\int_D f(x,y) dA =  \\int_\\theta \\int_r f(r\\cos(\\theta), r\\sin(\\theta)) r \\cdot dr \\cdot d\\theta.\n",
      "$$\n",
      "\n",
      "The $r \\cdot dr \\cdot d\\theta$ matches $dA$ after the transformation, of\n",
      "which more is described later.\n",
      "\n",
      "For example, consider the problem of integrating $f(x,y) = x^2 + y^2$\n",
      "over the unit circle. Using rectangular coordinates we have an error:\n",
      "\n"
     ]
    },
    {
     "cell_type": "code",
     "collapsed": true,
     "input": [
      "# integrate(x^2 + y^2, (y, -sqrt(1-x^2), sqrt(1-x^2)), (x, -1, 1))  ## uncomment to see error"
     ],
     "language": "python",
     "metadata": {},
     "outputs": [],
     "prompt_number": 24
    },
    {
     "cell_type": "markdown",
     "metadata": {},
     "source": [
      "We can see where the error comes from by doing it one at a time:\n"
     ]
    },
    {
     "cell_type": "code",
     "collapsed": true,
     "input": [
      "x, y = symbols(\"x, y\", real=true)\n",
      "ex = integrate(x^2 + y^2, y)\n",
      "ex1 = subs(ex, y, sqrt(1-x^2)) - subs(ex, y, -sqrt(1-x^2))"
     ],
     "language": "python",
     "metadata": {},
     "outputs": [
      {
       "latex": [
        "$$2 x^{2} \\sqrt{- x^{2} + 1} + \\frac{2}{3} \\left(- x^{2} + 1\\right)^{\\frac{3}{2}}$$"
       ],
       "metadata": {},
       "output_type": "pyout",
       "prompt_number": 25,
       "text": [
        "                                 3/2\n",
        "        __________     /   2    \\   \n",
        "   2   /    2        2*\\- x  + 1/   \n",
        "2*x *\\/  - x  + 1  + ---------------\n",
        "                            3       "
       ]
      }
     ],
     "prompt_number": 25
    },
    {
     "cell_type": "markdown",
     "metadata": {},
     "source": [
      "Trying `integrate(ex1)` should work -- and does -- but for some reason\n",
      "it also fails at times. here we break this up into two pieces and\n",
      "integrate each:\n"
     ]
    },
    {
     "cell_type": "code",
     "collapsed": true,
     "input": [
      "exa = 2 * x^2 * sqrt(1 - x^2)\n",
      "exb = (2//3) * sqrt(1 - x^2)^3"
     ],
     "language": "python",
     "metadata": {},
     "outputs": [
      {
       "latex": [
        "$$\\frac{2}{3} \\left(- x^{2} + 1\\right)^{\\frac{3}{2}}$$"
       ],
       "metadata": {},
       "output_type": "pyout",
       "prompt_number": 26,
       "text": [
        "            3/2\n",
        "  /   2    \\   \n",
        "2*\\- x  + 1/   \n",
        "---------------\n",
        "       3       "
       ]
      }
     ],
     "prompt_number": 26
    },
    {
     "cell_type": "markdown",
     "metadata": {},
     "source": [
      "The second integral gives:\n"
     ]
    },
    {
     "cell_type": "code",
     "collapsed": true,
     "input": [
      "outb = integrate(exb, x)"
     ],
     "language": "python",
     "metadata": {},
     "outputs": [
      {
       "latex": [
        "$$- \\frac{x^{3}}{6} \\sqrt{- x^{2} + 1} + \\frac{5 x}{12} \\sqrt{- x^{2} + 1} + \\frac{1}{4} \\operatorname{asin}{\\left (x \\right )}$$"
       ],
       "metadata": {},
       "output_type": "pyout",
       "prompt_number": 27,
       "text": [
        "        __________          __________          \n",
        "   3   /    2              /    2               \n",
        "  x *\\/  - x  + 1    5*x*\\/  - x  + 1    asin(x)\n",
        "- ---------------- + ----------------- + -------\n",
        "         6                   12             4   "
       ]
      }
     ],
     "prompt_number": 27
    },
    {
     "cell_type": "markdown",
     "metadata": {},
     "source": [
      "(Though there can be errors some times when this is computed.)\n",
      "The first integral has a condition:\n",
      "\n"
     ]
    },
    {
     "cell_type": "code",
     "collapsed": true,
     "input": [
      "out = integrate(exa, x)"
     ],
     "language": "python",
     "metadata": {},
     "outputs": [
      {
       "latex": [
        "$$2 \\begin{cases} \\frac{i x^{5}}{4 \\sqrt{x^{2} - 1}} - \\frac{3 i x^{3}}{8 \\sqrt{x^{2} - 1}} - \\frac{i x}{8 \\left\\lvert{x}\\right\\rvert} \\operatorname{acosh}{\\left (\\left\\lvert{x}\\right\\rvert \\right )} + \\frac{\\pi x}{16 \\left\\lvert{x}\\right\\rvert} + \\frac{i x}{8 \\sqrt{x^{2} - 1}} & \\text{for}\\: x^{2} \\gt 1 \\\\- \\frac{x^{5}}{4 \\sqrt{- x^{2} + 1}} + \\frac{3 x^{3}}{8 \\sqrt{- x^{2} + 1}} + \\frac{x}{8 \\left\\lvert{x}\\right\\rvert} \\operatorname{asin}{\\left (\\left\\lvert{x}\\right\\rvert \\right )} - \\frac{x}{8 \\sqrt{- x^{2} + 1}} & \\text{otherwise} \\end{cases}$$"
       ],
       "metadata": {},
       "output_type": "pyout",
       "prompt_number": 28,
       "text": [
        "  //        5                3                                                \n",
        "  ||     I*x            3*I*x       I*x*acosh(|x|)    pi*x         I*x        \n",
        "  ||------------- - ------------- - -------------- + ------ + -------------  f\n",
        "  ||     ________        ________       8*|x|        16*|x|        ________   \n",
        "  ||    /  2            /  2                                      /  2        \n",
        "  ||4*\\/  x  - 1    8*\\/  x  - 1                              8*\\/  x  - 1    \n",
        "2*|<                                                                          \n",
        "  ||            5                  3                                          \n",
        "  ||           x                3*x         x*asin(|x|)          x            \n",
        "  ||  - --------------- + --------------- + ----------- - ---------------    o\n",
        "  ||         __________        __________      8*|x|           __________     \n",
        "  ||        /    2            /    2                          /    2          \n",
        "  \\\\    4*\\/  - x  + 1    8*\\/  - x  + 1                  8*\\/  - x  + 1      \n",
        "\n",
        "         \\\n",
        "    2    |\n",
        "or x  > 1|\n",
        "         |\n",
        "         |\n",
        "         |\n",
        "         |\n",
        "         |\n",
        "         |\n",
        "therwise |\n",
        "         |\n",
        "         |\n",
        "         /"
       ]
      }
     ],
     "prompt_number": 28
    },
    {
     "cell_type": "markdown",
     "metadata": {},
     "source": [
      "We can fish out the value for $|x| < 1$, but it isn't pretty:\n"
     ]
    },
    {
     "cell_type": "code",
     "collapsed": true,
     "input": [
      "outa = 2*collect((out/2).x[:args][2].x)[1]"
     ],
     "language": "python",
     "metadata": {},
     "outputs": [
      {
       "latex": [
        "$$- \\frac{x^{5}}{2 \\sqrt{- x^{2} + 1}} + \\frac{3 x^{3}}{4 \\sqrt{- x^{2} + 1}} + \\frac{x}{4 \\left\\lvert{x}\\right\\rvert} \\operatorname{asin}{\\left (\\left\\lvert{x}\\right\\rvert \\right )} - \\frac{x}{4 \\sqrt{- x^{2} + 1}}$$"
       ],
       "metadata": {},
       "output_type": "pyout",
       "prompt_number": 29,
       "text": [
        "          5                  3                                     \n",
        "         x                3*x         x*asin(|x|)          x       \n",
        "- --------------- + --------------- + ----------- - ---------------\n",
        "       __________        __________      4*|x|           __________\n",
        "      /    2            /    2                          /    2     \n",
        "  2*\\/  - x  + 1    4*\\/  - x  + 1                  4*\\/  - x  + 1 "
       ]
      }
     ],
     "prompt_number": 29
    },
    {
     "cell_type": "markdown",
     "metadata": {},
     "source": [
      "With this we can see the issue -- evaluating at 1 or -1 gives an `NaN`.\n",
      "We could take a limit -- but this doesn't work -- rather we just put in\n",
      "a small value of $h$ and see:\n"
     ]
    },
    {
     "cell_type": "code",
     "collapsed": true,
     "input": [
      "h = 0.0001\n",
      "subs(outa + outb, x, 1- h) - subs(outa + outb, x, -1 + h)"
     ],
     "language": "python",
     "metadata": {},
     "outputs": [
      {
       "latex": [
        "$$1.57079255591698$$"
       ],
       "metadata": {},
       "output_type": "pyout",
       "prompt_number": 30,
       "text": [
        "1.57079255591698"
       ]
      }
     ],
     "prompt_number": 30
    },
    {
     "cell_type": "markdown",
     "metadata": {},
     "source": [
      "An answer that looks like $\\pi/2$.\n",
      "Okay, that was too much work and still not that satisfying! Let's see\n",
      "what happens if we change coordinate systems. The unit circle is\n",
      "described by $0 \\leq r \\leq 1$ and $0 \\leq \\theta \\leq 2\\pi$ -- a simple\n",
      "region, and we have\n",
      "\n"
     ]
    },
    {
     "cell_type": "code",
     "collapsed": true,
     "input": [
      "r, theta = symbols(\"r, theta\", real=true)\n",
      "f(x,y) = x^2 + y^2\n",
      "x, y = r * cos(theta), r * sin(theta)\n",
      "integrate(f(x, y) * r, (theta, 0, 2PI), (r, 0, 1)) # note extra \"* r\""
     ],
     "language": "python",
     "metadata": {},
     "outputs": [
      {
       "latex": [
        "$$\\frac{\\pi}{2}$$"
       ],
       "metadata": {},
       "output_type": "pyout",
       "prompt_number": 31,
       "text": [
        "pi\n",
        "--\n",
        "2 "
       ]
      }
     ],
     "prompt_number": 31
    },
    {
     "cell_type": "markdown",
     "metadata": {},
     "source": [
      "Triple integrals\n",
      "----------------\n",
      "Triple integrals are conceptually no more difficult than double\n",
      "integrals. Fubini's theorem is used to iterate the integrals, and if a\n",
      "region can be written iteratively, then the process is similar.\n",
      "\n",
      "For example, compute $\\int\\int\\int_D z dV$ where $D$ is the region\n",
      "between the planes $z=x+y$, $z=3x+5y$ lying over the rectangle\n",
      "$[0,3] \\times [0,2]$. This becomes:\n",
      "\n"
     ]
    },
    {
     "cell_type": "code",
     "collapsed": true,
     "input": [
      "x,y,z = symbols(\"x,y,z\")\n",
      "integrate(z, (z, x+y, 3x+5y), (y, 0, 2), (x, 0,3))"
     ],
     "language": "python",
     "metadata": {},
     "outputs": [
      {
       "latex": [
        "$$294$$"
       ],
       "metadata": {},
       "output_type": "pyout",
       "prompt_number": 32,
       "text": [
        "294"
       ]
      }
     ],
     "prompt_number": 32
    },
    {
     "cell_type": "markdown",
     "metadata": {},
     "source": [
      "cylindrical, spherical\n",
      "----------------------\n",
      "As polar coordinates make certain double integrals easier, triple\n",
      "integrals can be easier to compute using either cylindrical coordinate\n",
      "systems or spherical. This relates them:\n",
      "\n",
      "$$\n",
      "\\int_D f(x,y,z) dV = \\int_\\theta \\int_r \\int_z f(r\\cos(\\theta), r\\sin(\\theta)z) r dz dr d\\theta\n",
      "= \\int_\\theta \\int_\\phi \\int_\\rho f(\\rho\\cos\\theta\\sin\\phi, \\rho\\sin\\theta\\sin\\phi, \\rho\\cos\\phi) \\rho^2 \\sin\\phi d\\rho d\\phi d\\theta.\n",
      "$$\n",
      "\n",
      "For example, computing the integral of $z$ over the region $D$ described\n",
      "by it fitting in the cylinder $x^2 + y^2\\leq 4$ with $0 \\leq z \\leq y$\n",
      "we have noting that the cylinder is a circle with radius 2:\n",
      "\n"
     ]
    },
    {
     "cell_type": "code",
     "collapsed": true,
     "input": [
      "integrate(z * r, (z, 0, r*sin(theta)), (r, 0, 2), (theta, 0, PI))"
     ],
     "language": "python",
     "metadata": {},
     "outputs": [
      {
       "latex": [
        "$$\\pi$$"
       ],
       "metadata": {},
       "output_type": "pyout",
       "prompt_number": 33,
       "text": [
        "pi"
       ]
      }
     ],
     "prompt_number": 33
    },
    {
     "cell_type": "markdown",
     "metadata": {},
     "source": [
      "The subtlety above is the limit of integration on $\\theta$ which is only\n",
      "$[0,\\pi]$, as the condition that $0 \\leq z \\leq y$ only allows values\n",
      "when the plane $z=y$ is positive, or the upper half of the $x-y$ plane.\n",
      "Change of variables\n",
      "-------------------\n",
      "\n",
      "The integrands for polar, cylindrical, and spherical integrals look like\n",
      "$f \\cdot G$ for some term $G$. (For example, $G=r$ for polar and\n",
      "cylindrical.) The $G$ comes from investigating the change in the \"$dA$\"\n",
      "or \"$dV$\" under the tranformation. What exactly $G$ is follows from the\n",
      "change of variable formula, written in two dimensions here:\n",
      "\n",
      "$$\n",
      "\\int_D f(x,y) dx dy = \\int_D f(u,v) G(x,y;u,v) du dv.\n",
      "$$\n",
      "\n",
      "The $G$ is the determinant of the Jacobian, $J$, that is the determinant\n",
      "of the matrix (in this case) $\\partial x_i/ \\partial u_j$.\n",
      "\n",
      "-   For example, suppose we have the transformation $x = r\\sin(\\theta)$\n",
      "    and $y=r\\cos(\\theta)$. Then $J$ is computed with:\n",
      "\n"
     ]
    },
    {
     "cell_type": "code",
     "collapsed": true,
     "input": [
      "us = r, theta = symbols(\"r, theta\", real=true)\n",
      "xs = [r*cos(theta), r*sin(theta)]\n",
      "J = Sym[diff(x, u) for x in xs, u in us]"
     ],
     "language": "python",
     "metadata": {},
     "outputs": [
      {
       "latex": [
        "\\begin{bmatrix}\\cos{\\left (\\theta \\right )}&- r \\sin{\\left (\\theta \\right )}\\\\\\sin{\\left (\\theta \\right )}&r \\cos{\\left (\\theta \\right )}\\end{bmatrix}"
       ],
       "metadata": {},
       "output_type": "pyout",
       "prompt_number": 34,
       "text": [
        "2x2 Array{Sym,2}:\n",
        " cos(theta)  -r*sin(theta)\n",
        " sin(theta)  r*cos(theta) "
       ]
      }
     ],
     "prompt_number": 34
    },
    {
     "cell_type": "markdown",
     "metadata": {},
     "source": [
      "We help `SymPy` out by specifying the type of the output on the\n",
      "comprehension. We see `J` is a 2 by 2 matrix and its determinant can be\n",
      "taken with `det` and then simplified through:\n"
     ]
    },
    {
     "cell_type": "code",
     "collapsed": true,
     "input": [
      "det(J) |> simplify"
     ],
     "language": "python",
     "metadata": {},
     "outputs": [
      {
       "latex": [
        "$$r$$"
       ],
       "metadata": {},
       "output_type": "pyout",
       "prompt_number": 35,
       "text": [
        "r"
       ]
      }
     ],
     "prompt_number": 35
    },
    {
     "cell_type": "markdown",
     "metadata": {},
     "source": [
      "-   To see how spherical coordinates can fit into the change of variable\n",
      "    formula, we have:\n",
      "\n"
     ]
    },
    {
     "cell_type": "code",
     "collapsed": true,
     "input": [
      "us = rho, phi, theta = symbols(\"rho, phi, theta\", real=true)\n",
      "xs = [rho*cos(theta)*sin(phi), rho*sin(theta)*sin(phi), rho*cos(phi)]\n",
      "J = Sym[diff(x, u) for x in xs, u in us]\n",
      "det(J) |> simplify"
     ],
     "language": "python",
     "metadata": {},
     "outputs": [
      {
       "latex": [
        "$$\\rho^{2} \\sin{\\left (\\phi \\right )}$$"
       ],
       "metadata": {},
       "output_type": "pyout",
       "prompt_number": 36,
       "text": [
        "   2         \n",
        "rho *sin(phi)"
       ]
      }
     ],
     "prompt_number": 36
    },
    {
     "cell_type": "markdown",
     "metadata": {},
     "source": [
      "-   Here is an application where we aren't just verifying an output. Let\n",
      "    $D$ be the region between the lines $y=1$, $y=3$ and the parallel\n",
      "    lines $x+2y=6$ and $x+2y=10$. Integrate $(x+3y)$.\n",
      "\n",
      "The change of variable $x =  u - 2v, $y=v\\$ translates into\n",
      "\n"
     ]
    },
    {
     "cell_type": "code",
     "collapsed": true,
     "input": [
      "us = u, v = symbols(\"u, v\", real=true)\n",
      "xs = x, y = u - 2v, v\n",
      "x+2y"
     ],
     "language": "python",
     "metadata": {},
     "outputs": [
      {
       "latex": [
        "$$u$$"
       ],
       "metadata": {},
       "output_type": "pyout",
       "prompt_number": 37,
       "text": [
        "u"
       ]
      }
     ],
     "prompt_number": 37
    },
    {
     "cell_type": "markdown",
     "metadata": {},
     "source": [
      "So with these coordinate, $D$ becomes a rectangular region\n",
      "$1 \\leq v \\leq 3$ and $6 \\leq u \\leq 10$. We then have:\n"
     ]
    },
    {
     "cell_type": "code",
     "collapsed": true,
     "input": [
      "J = Sym[diff(x, u) for x in xs, u in us]\n",
      "integrate((x + 3y) * det(J), (v, 1, 3), (u, 6, 10))"
     ],
     "language": "python",
     "metadata": {},
     "outputs": [
      {
       "latex": [
        "$$80$$"
       ],
       "metadata": {},
       "output_type": "pyout",
       "prompt_number": 38,
       "text": [
        "80"
       ]
      }
     ],
     "prompt_number": 38
    },
    {
     "cell_type": "markdown",
     "metadata": {},
     "source": [
      "As an aside, this is an example of a *linear transformation* called a\n",
      "shear. From the linear algebra viewpoint, the transformation can be\n",
      "written in matrix notation as `xs = J * us` (if `us` and `xs` were\n",
      "vectors and not tuples). That `J` is the same as the Jacobian is related\n",
      "to the linear nature of the transformation.\n",
      "Applications\n",
      "------------\n",
      "\n",
      "-   Compute the area of the right half of the centroid\n",
      "    $r^2 = \\cos(2\\theta)$.\n",
      "\n",
      "The key is $\\theta$ goes from $-\\pi/4$ to $\\pi/4$ to trace out the\n",
      "region, giving:\n",
      "\n"
     ]
    },
    {
     "cell_type": "code",
     "collapsed": true,
     "input": [
      "integrate(1*r, (r, 0, sqrt(cos(2theta))), (theta, -PI/4, PI/4))"
     ],
     "language": "python",
     "metadata": {},
     "outputs": [
      {
       "latex": [
        "$$\\frac{1}{2}$$"
       ],
       "metadata": {},
       "output_type": "pyout",
       "prompt_number": 39,
       "text": [
        "1/2"
       ]
      }
     ],
     "prompt_number": 39
    },
    {
     "cell_type": "markdown",
     "metadata": {},
     "source": [
      "-   Find the center of mass of the domain bounded by $y=1-x^2$ and the\n",
      "    $x$ axis with density $\\rho(x,y) = y$.\n",
      "\n",
      "The center of mass in the $x$ direction is given by\n",
      "$(\\int_D x \\cdot \\rho \\cdot DA)/M$ and similarly with a $y$.\n",
      "\n",
      "We have:\n",
      "\n"
     ]
    },
    {
     "cell_type": "code",
     "collapsed": true,
     "input": [
      "x, y = symbols(\"x, y\", real=true)\n",
      "rho = y\n",
      "M  = integrate(rho, (y, 0, 1-x^2), (x, -1, 1))\n",
      "Mx = integrate(x * rho, (y, 0, 1-x^2), (x, -1, 1))\n",
      "My = integrate(y * rho, (y, 0, 1-x^2), (x, -1, 1))\n",
      "Mx/M, My/M"
     ],
     "language": "python",
     "metadata": {},
     "outputs": [
      {
       "metadata": {},
       "output_type": "pyout",
       "prompt_number": 40,
       "text": [
        "(0,4/7)"
       ]
      }
     ],
     "prompt_number": 40
    },
    {
     "cell_type": "markdown",
     "metadata": {},
     "source": [
      "That $M_x$ is $0$ is no surprise, as there is symmetry in both the\n",
      "region and the density to the left and right of the line $x=0$.\n"
     ]
    }
   ],
   "metadata": {}
  }
 ]
}